{
 "cells": [
  {
   "cell_type": "code",
   "execution_count": null,
   "metadata": {
    "collapsed": true
   },
   "outputs": [],
   "source": [
    "Week 6 - Wireless\n",
    "    802.11 between 1Mbps to 2Mbps\n",
    "    802.11b, 802.11g\n",
    "    \n",
    "    FCC released 3 unlicensed bands for public use: 900MHz, 2.4GHz and 5GHz\n",
    "        Unlicensed frequencies\n",
    "    \n",
    "    Protocol       Release Data  Freq       Rate (typical)   Rate(max)   Range (indoor)  \n",
    "    Legacy         1997          2.4GHz     1 Mbps           \n",
    "    802.11a\n",
    "    802.11b\n",
    "    802.11g\n",
    "    802.11n\n",
    "   \n",
    "    - 2.4GHz (802.11b)\n",
    "        - Most widely deployed wireless standard\n",
    "        - Maximum data rate of 11Mbps\n",
    "        - Big brother 802.11g so why go buy an 802.11b card or access point\n",
    "        - The problem with 802.11b is how the data link layer is dealt with, in order to solve problems in the RF spectrum,\n",
    "            a type of etheret collision detection\n",
    "        - CSMA/CA is like TCP 3 way handshake, called a request to send, \n",
    "        clear to send because of the way that hosts must communicate to the access point\n",
    "        \n",
    "    - 2.4GHz/5GHz (802.11n)\n",
    "        - Adds Multiple-Input Multiple Otuput whch employs multiple transmitters and receiver antennas to increase data throughput\n",
    "        - Up to 8 but most use 4\n",
    "        - Allows for much higher data rates\n",
    "        - Wi-Fi Wireless Fidelilty\n",
    "        \n",
    "    - NIC\n",
    "        - Every host that wants to connect to a wireless network needs a NIC\n",
    "        - Has a radio antenna which is used via microwave radiation\n",
    "        - YOu might use an external nic to increase your signal in an area of poor reception\n",
    "        - What layer of the OSI model (1 & 2)-physical and data link layers\n",
    "        - Traditionally connected using PCI bus\n",
    "        - AN 802.11 wireless NIC can operate in two modes known as infrastructure mode and ad hoc mode\n",
    "    \n",
    "    - Shared Key Authentication\n",
    "        - the access point sends the client device a challenge-text packet that the client must then encrypt with a WEP key and\n",
    "            decipher the WEP Key\n",
    "        - This is not really used anymore in todays WLANS's\n",
    "    \n",
    "    - MAC Addresses\n",
    "        - MAC addresses can be manually configured in the AP of the hosts and denied acess in the filter table\n",
    "        - All mac layer informaiton is sent in the clear so anyone equipped with a wireless sniffer\n",
    "        \n",
    "    - WPA and WPA 2 - Pre-Shared Key\n",
    "    - netsh wlan show interfaces\n",
    "    - netsh wlan show profiles\n",
    "    - netsh interface dump > mycfg.dat\n",
    "    - netsh exec mycfg.dat \n",
    "    - netsh dhcp dump > mydhcp.dat\n",
    "    - netsh wlan show profiles name=\"Dev League 5GHz\" key=clear\n",
    "    - netsh advfirewall show allprofiles\n",
    "    - \n",
    "    - cat /etc/NetworkManager/system-connections"
   ]
  }
 ],
 "metadata": {
  "kernelspec": {
   "display_name": "Python 3",
   "language": "python",
   "name": "python3"
  },
  "language_info": {
   "codemirror_mode": {
    "name": "ipython",
    "version": 3
   },
   "file_extension": ".py",
   "mimetype": "text/x-python",
   "name": "python",
   "nbconvert_exporter": "python",
   "pygments_lexer": "ipython3",
   "version": "3.6.3"
  }
 },
 "nbformat": 4,
 "nbformat_minor": 2
}
